{
  "nbformat": 4,
  "nbformat_minor": 0,
  "metadata": {
    "colab": {
      "provenance": [],
      "authorship_tag": "ABX9TyPuyjfEIlQhKoMmyYMhGetK",
      "include_colab_link": true
    },
    "kernelspec": {
      "name": "python3",
      "display_name": "Python 3"
    },
    "language_info": {
      "name": "python"
    }
  },
  "cells": [
    {
      "cell_type": "markdown",
      "metadata": {
        "id": "view-in-github",
        "colab_type": "text"
      },
      "source": [
        "<a href=\"https://colab.research.google.com/github/triandosimarmata/myprojects/blob/main/pycma.ipynb\" target=\"_parent\"><img src=\"https://colab.research.google.com/assets/colab-badge.svg\" alt=\"Open In Colab\"/></a>"
      ]
    },
    {
      "cell_type": "code",
      "execution_count": 30,
      "metadata": {
        "colab": {
          "base_uri": "https://localhost:8080/"
        },
        "id": "UUJiMhoqqyrw",
        "outputId": "26def02c-d594-45fa-c2fa-e14b515dcc95"
      },
      "outputs": [
        {
          "output_type": "stream",
          "name": "stdout",
          "text": [
            "(5_w,10)-aCMA-ES (mu_w=3.2,w_1=45%) in dimension 10 (seed=822276, Wed Sep 24 09:48:17 2025)\n",
            "Starting optimization for the Rotated Ellipsoid function in 10 dimensions.\n",
            "Starting point: [-3.4   0.34 -0.31  1.04  1.28  0.14  3.05  1.28 -3.56 -1.  ]\n",
            "------------------------------\n",
            "Iterat #Fevals   function value  axis ratio  sigma  min&max std  t[m:s]\n",
            "    1     10 7.115143179469104e+20 1.0e+00 4.70e-01  5e-01  5e-01 0:00.0\n",
            "    2     20 3.960165270568193e+20 1.2e+00 4.73e-01  4e-01  5e-01 0:00.0\n",
            "    3     30 2.006754220497696e+20 1.3e+00 4.99e-01  5e-01  5e-01 0:00.0\n",
            "  100   1000 6.709789127902452e+14 7.1e+01 1.61e-01  1e-01  3e-01 0:00.1\n",
            "  200   2000 2.118238360883947e+12 1.4e+03 1.52e-02  1e-02  3e-02 0:00.2\n",
            "  300   3000 1.571136253355548e+09 2.8e+04 8.10e-03  7e-03  5e-02 0:00.2\n",
            "  400   4000 1.830037147793534e+07 2.6e+05 3.95e-03  2e-03  4e-02 0:00.3\n",
            "  500   5000 3.852290520414683e+05 4.7e+05 2.90e-05  2e-05  1e-04 0:00.4\n",
            "  600   6000 3.808314215638341e+05 5.1e+00 2.65e-04  2e-04  4e-04 0:00.5\n",
            "  700   7000 3.746300010008050e+05 5.4e+01 1.12e-03  1e-03  5e-03 0:00.6\n"
          ]
        },
        {
          "output_type": "stream",
          "name": "stderr",
          "text": [
            "/usr/local/lib/python3.12/dist-packages/cma/utilities/utils.py:362: UserWarning: \n",
            "        geno-pheno transformation introduced based on the\n",
            "        current covariance matrix with condition 1.0e+12 -> 1.0e+00,\n",
            "        injected solutions become \"invalid\" in this iteration (time=Sep 24 09:48:18 2025 class=CMAEvolutionStrategy method=alleviate_conditioning iteration=575)\n",
            "  warnings.warn(msg + ' (time={}'.format(time.asctime()[4:]) +\n"
          ]
        },
        {
          "output_type": "stream",
          "name": "stdout",
          "text": [
            "  800   8000 1.203625888833533e+02 8.8e+02 8.32e-04  3e-03  2e-02 0:00.7\n",
            "  900   9000 2.426388645261174e+01 8.6e+02 5.29e-05  7e-05  4e-04 0:00.8\n",
            " 1000  10000 3.213301408136018e-02 6.9e+03 1.25e-04  2e-04  5e-03 0:01.0\n",
            "Iterat #Fevals   function value  axis ratio  sigma  min&max std  t[m:s]\n",
            " 1100  11000 3.661046955206232e-03 8.7e+03 5.92e-07  5e-07  1e-05 0:01.2\n",
            " 1200  12000 3.273746969164313e-03 1.6e+04 6.70e-05  1e-04  7e-04 0:01.4\n",
            " 1300  13000 1.021976011373065e-07 1.1e+05 4.27e-06  2e-05  1e-04 0:01.7\n",
            " 1400  14000 4.973277340280798e-14 1.4e+05 6.92e-09  1e-08  9e-08 0:01.9\n",
            " 1403  14030 5.002567038106040e-14 1.5e+05 6.96e-09  1e-08  9e-08 0:01.9\n",
            "------------------------------\n",
            "Optimization Complete!\n",
            "Minimum function value (f(x)) found: 4.854661e-14\n",
            "Best solution (x): [ 0. -0. -0. -0. -0. -0. -0. -0.  0.  0.]\n"
          ]
        }
      ],
      "source": [
        "import cma\n",
        "import numpy as np\n",
        "import matplotlib.pyplot as plt\n",
        "\n",
        "# 1. OBJECTIVE FUNCTION DEFINITION (ROTATED ELLIPSOID)\n",
        "# This function is difficult to optimize because it is non-separable and has a rotated elliptical shape.\n",
        "# f(x) = sum_{i=1 to n} (10^(alpha * (i-1)/(n-1)) * y_i)^2, where y = R*x\n",
        "# R is an orthogonal rotation matrix.\n",
        "\n",
        "class RotatedEllipsoid:\n",
        "    def __init__(self, dimension, alpha=10):\n",
        "        self.dimension = dimension\n",
        "        self.alpha = alpha\n",
        "        # Create a random rotation matrix that will remain the same during optimization\n",
        "        self.rotation_matrix = self._create_rotation_matrix()\n",
        "        # Create a weight vector for the ellipse axes\n",
        "        self.weights = np.array([10**(self.alpha * i / (self.dimension - 1))\n",
        "                                 for i in range(self.dimension)])\n",
        "\n",
        "    def _create_rotation_matrix(self):\n",
        "        # Create a random matrix\n",
        "        H = np.random.rand(self.dimension, self.dimension)\n",
        "        # Use QR decomposition to get an orthogonal matrix (rotation matrix)\n",
        "        Q, R = np.linalg.qr(H)\n",
        "        return Q\n",
        "\n",
        "    def __call__(self, x):\n",
        "        if len(x) != self.dimension:\n",
        "            raise ValueError(f\"Input vector must have dimension {self.dimension}\")\n",
        "        # Rotate the input vector\n",
        "        y = np.dot(self.rotation_matrix, x)\n",
        "        # Calculate the elliptical function value with weights\n",
        "        return np.sum((self.weights * y)**2)\n",
        "\n",
        "# 2. CMA-ES SETUP AND EXECUTION\n",
        "if __name__ == '__main__':\n",
        "    # Parameters for optimization\n",
        "    DIMENSION = 10  # Problem dimension\n",
        "    STARTING_POINT = np.random.rand(DIMENSION) * 10 - 5 # Random starting point between -5 and 5\n",
        "    INITIAL_STD_DEV = 0.5  # Initial standard deviation for search\n",
        "\n",
        "    # Create an instance of the rotated ellipsoid function\n",
        "    objective_function = RotatedEllipsoid(dimension=DIMENSION)\n",
        "\n",
        "    # Initialize the CMA-ES algorithm\n",
        "    # cma.CMAEvolutionStrategy(starting_point, standard_deviation)\n",
        "    es = cma.CMAEvolutionStrategy(STARTING_POINT, INITIAL_STD_DEV)\n",
        "\n",
        "    print(f\"Starting optimization for the Rotated Ellipsoid function in {DIMENSION} dimensions.\")\n",
        "    print(f\"Starting point: {np.round(STARTING_POINT, 2)}\")\n",
        "    print(\"-\" * 30)\n",
        "\n",
        "    # Run the optimization loop\n",
        "    # The loop stops when internal CMA-ES criteria are met (e.g., convergence)\n",
        "    while not es.stop():\n",
        "        # 1. Ask for a new population of solutions\n",
        "        solutions = es.ask()\n",
        "\n",
        "        # 2. Evaluate each solution with the objective function\n",
        "        fitness_values = [objective_function(x) for x in solutions]\n",
        "\n",
        "        # 3. Tell the algorithm the solutions and their fitness values\n",
        "        es.tell(solutions, fitness_values)\n",
        "\n",
        "        # 4. Display progress (optional)\n",
        "        es.disp()\n",
        "\n",
        "    # 3. DISPLAY FINAL RESULTS\n",
        "    print(\"-\" * 30)\n",
        "    print(\"Optimization Complete!\")\n",
        "\n",
        "    # es.result contains all optimization results\n",
        "    best_solution = es.result.xbest\n",
        "    best_fitness = es.result.fbest\n",
        "\n",
        "    print(f\"Minimum function value (f(x)) found: {best_fitness:.6e}\")\n",
        "    print(f\"Best solution (x): {np.round(best_solution, 4)}\")"
      ]
    },
    {
      "cell_type": "code",
      "metadata": {
        "colab": {
          "base_uri": "https://localhost:8080/"
        },
        "id": "13e3867a",
        "outputId": "a34b38a8-95ba-47d6-cec4-9f8388fd8418"
      },
      "source": [
        "!pip install cma"
      ],
      "execution_count": null,
      "outputs": [
        {
          "output_type": "stream",
          "name": "stdout",
          "text": [
            "Collecting cma\n",
            "  Downloading cma-4.4.0-py3-none-any.whl.metadata (8.7 kB)\n",
            "Requirement already satisfied: numpy in /usr/local/lib/python3.12/dist-packages (from cma) (2.0.2)\n",
            "Downloading cma-4.4.0-py3-none-any.whl (303 kB)\n",
            "\u001b[?25l   \u001b[90m━━━━━━━━━━━━━━━━━━━━━━━━━━━━━━━━━━━━━━━━\u001b[0m \u001b[32m0.0/303.8 kB\u001b[0m \u001b[31m?\u001b[0m eta \u001b[36m-:--:--\u001b[0m\r\u001b[2K   \u001b[91m━━━━━━━━━━━━━━━━━━━━━━━━━━━━━━━━━\u001b[0m\u001b[91m╸\u001b[0m\u001b[90m━━━━━━\u001b[0m \u001b[32m256.0/303.8 kB\u001b[0m \u001b[31m7.9 MB/s\u001b[0m eta \u001b[36m0:00:01\u001b[0m\r\u001b[2K   \u001b[90m━━━━━━━━━━━━━━━━━━━━━━━━━━━━━━━━━━━━━━━━\u001b[0m \u001b[32m303.8/303.8 kB\u001b[0m \u001b[31m6.1 MB/s\u001b[0m eta \u001b[36m0:00:00\u001b[0m\n",
            "\u001b[?25hInstalling collected packages: cma\n",
            "Successfully installed cma-4.4.0\n"
          ]
        }
      ]
    }
  ]
}